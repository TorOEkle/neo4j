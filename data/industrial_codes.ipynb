{
 "cells": [
  {
   "cell_type": "code",
   "execution_count": 10,
   "metadata": {},
   "outputs": [],
   "source": [
    "from typing import List\n",
    "from persons import Person\n",
    "import pandas as pd\n",
    "import numpy as np   \n",
    "industrial_codes_description = \"https://raw.githubusercontent.com/TorOEkle/neo4j/refs/heads/company_data/data/csv_files/business_codes.csv\"\n",
    "companies = \"https://raw.githubusercontent.com/TorOEkle/neo4j/refs/heads/company_data/data/csv_files/enheter.csv\"\n"
   ]
  },
  {
   "cell_type": "code",
   "execution_count": 11,
   "metadata": {},
   "outputs": [],
   "source": [
    "code_description = pd.read_csv(industrial_codes_description)\n",
    "code_description.rename(columns={\n",
    "    'naeringskode': 'industrial_code',\n",
    "    'naeringsbeskrivelse': 'description'\n",
    "}, inplace=True)\n",
    "\n",
    "code_description.isna().sum()\n",
    "\n"
   ]
  },
  {
   "cell_type": "code",
   "execution_count": 12,
   "metadata": {},
   "outputs": [
    {
     "name": "stdout",
     "output_type": "stream",
     "text": [
      "Before dropping NaN:\n",
      "1\n",
      "After dropping NaN:\n",
      "industrial_code    0\n",
      "description        0\n",
      "dtype: int64\n"
     ]
    }
   ],
   "source": [
    "\n",
    "# Count NaN values in the 'industrial_code' column\n",
    "print(\"Before dropping NaN:\")\n",
    "print(code_description['industrial_code'].isna().sum())\n",
    "\n",
    "# Drop rows with NaN values\n",
    "code_description = code_description.dropna(subset='industrial_code')\n",
    "\n",
    "# Check again after dropping NaN\n",
    "print(\"After dropping NaN:\")\n",
    "print(code_description.isna().sum())\n"
   ]
  }
 ],
 "metadata": {
  "kernelspec": {
   "display_name": "env_neo",
   "language": "python",
   "name": "python3"
  },
  "language_info": {
   "codemirror_mode": {
    "name": "ipython",
    "version": 3
   },
   "file_extension": ".py",
   "mimetype": "text/x-python",
   "name": "python",
   "nbconvert_exporter": "python",
   "pygments_lexer": "ipython3",
   "version": "3.11.9"
  }
 },
 "nbformat": 4,
 "nbformat_minor": 2
}
