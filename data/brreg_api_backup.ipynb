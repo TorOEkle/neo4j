{
 "cells": [
  {
   "attachments": {},
   "cell_type": "markdown",
   "metadata": {},
   "source": [
    "# Teste brreg API\n",
    "- <https://data.brreg.no/enhetsregisteret/oppslag/enheter?kommunenummer=1103,1108&fraAntallAnsatte=10&tilAntallAnsatte=50000&sort=navn.norwegian,asc>"
   ]
  },
  {
   "cell_type": "code",
   "execution_count": 1,
   "metadata": {},
   "outputs": [],
   "source": [
    "import requests\n",
    "import pandas as pd\n",
    "from brreg.enhetsregisteret import Client\n",
    "\n"
   ]
  },
  {
   "cell_type": "code",
   "execution_count": null,
   "metadata": {},
   "outputs": [],
   "source": []
  },
  {
   "cell_type": "code",
   "execution_count": 23,
   "metadata": {},
   "outputs": [],
   "source": [
    "df = pd.read_json('enheter_sandnes_stavanger.json')\n",
    "df['naeringskode_1'] = df['naeringskode1'].apply(lambda x: x['kode'])\n",
    "df['naeringsbeskrivelse_1'] = df['naeringskode1'].apply(lambda x: x['beskrivelse'])\n",
    "df['organisasjonsform'] = df['organisasjonsform'].apply(lambda x: x['beskrivelse'])\n",
    "#need to handle nan value for  naeringskode2 and 3\n",
    "# Function to extract 'kode' from dictionary or return None for NaN\n",
    "def extract_kode(x):\n",
    "    if isinstance(x, dict):\n",
    "        return x['kode']\n",
    "    else:\n",
    "        return None\n",
    "\n",
    "# Function to extract 'beskrivelse' from dictionary or return None for NaN\n",
    "def extract_beskrivelse(x):\n",
    "    if isinstance(x, dict):\n",
    "        return x['beskrivelse']\n",
    "    else:\n",
    "        return None\n",
    "df['naeringskode_2'] = df['naeringskode2'].apply(extract_kode)\n",
    "df['naeringsbeskrivelse_2'] = df['naeringskode2'].apply(extract_beskrivelse)\n",
    "df['naeringskode_3'] = df['naeringskode3'].apply(extract_kode)\n",
    "df['naeringsbeskrivelse_3'] = df['naeringskode3'].apply(extract_beskrivelse)\n",
    "df['kommune'] = df['forretningsadresse'].apply(lambda x: x['kommune'])\n",
    "df['forretningsadresse'] = df['forretningsadresse'].apply(lambda x: f\"{', '.join(x['adresse'])}, {x['postnummer']} {x['poststed']}\")\n",
    "#change format of overordnet_enhet to text and remove decimal from float representation\n",
    "df['overordnetEnhet'] = df['overordnetEnhet'].astype(str).apply(lambda x: x.rstrip('.0'))\n",
    "df['organisasjonsnummer'] = df['organisasjonsnummer'].astype(str)"
   ]
  },
  {
   "cell_type": "code",
   "execution_count": 27,
   "metadata": {},
   "outputs": [],
   "source": [
    "# Convert list to string\n",
    "df['vedtektsfestetFormaal'] = df['vedtektsfestetFormaal'].apply(lambda x: ', '.join(map(str, x)) if isinstance(x, list) else \"NaN\")\n",
    "df['aktivitet'] = df['aktivitet'].apply(lambda x: ', '.join(map(str, x)) if isinstance(x, list) else \"NaN\")\n",
    "# Convert to integer\n",
    "df['sisteInnsendteAarsregnskap'] = pd.to_numeric(df['sisteInnsendteAarsregnskap'], downcast='integer').astype('Int64')"
   ]
  },
  {
   "attachments": {},
   "cell_type": "markdown",
   "metadata": {},
   "source": [
    "## Select columns for companies to store in csv"
   ]
  },
  {
   "cell_type": "code",
   "execution_count": 10,
   "metadata": {},
   "outputs": [
    {
     "data": {
      "text/plain": [
       "Index(['organisasjonsnummer', 'navn', 'organisasjonsform',\n",
       "       'registreringsdatoEnhetsregisteret', 'registrertIMvaregisteret',\n",
       "       'naeringskode1', 'antallAnsatte', 'harRegistrertAntallAnsatte',\n",
       "       'forretningsadresse', 'stiftelsesdato', 'institusjonellSektorkode',\n",
       "       'registrertIForetaksregisteret', 'registrertIStiftelsesregisteret',\n",
       "       'registrertIFrivillighetsregisteret', 'konkurs', 'underAvvikling',\n",
       "       'underTvangsavviklingEllerTvangsopplosning', 'maalform', 'vedtektsdato',\n",
       "       'vedtektsfestetFormaal', 'aktivitet', 'links',\n",
       "       'sisteInnsendteAarsregnskap', 'frivilligMvaRegistrertBeskrivelser',\n",
       "       'naeringskode2', 'naeringskode3', 'postadresse', 'hjemmeside',\n",
       "       'hjelpeenhetskode', 'overordnetEnhet', 'naeringskode_1',\n",
       "       'naeringsbeskrivelse_1', 'naeringskode_2', 'naeringsbeskrivelse_2',\n",
       "       'naeringskode_3', 'naeringsbeskrivelse_3', 'kommune'],\n",
       "      dtype='object')"
      ]
     },
     "execution_count": 10,
     "metadata": {},
     "output_type": "execute_result"
    }
   ],
   "source": [
    "df.columns"
   ]
  },
  {
   "attachments": {},
   "cell_type": "markdown",
   "metadata": {},
   "source": [
    "## Create data for company codes and prepare for relationships"
   ]
  },
  {
   "cell_type": "code",
   "execution_count": 20,
   "metadata": {},
   "outputs": [],
   "source": [
    "business_1 = df[['naeringskode_1', 'naeringsbeskrivelse_1']].drop_duplicates()\n",
    "business_2 = df[['naeringskode_2', 'naeringsbeskrivelse_2']].drop_duplicates()\n",
    "business_3 = df[['naeringskode_3', 'naeringsbeskrivelse_3']].drop_duplicates()\n",
    "business_2.columns = business_1.columns\n",
    "business_3.columns = business_1.columns\n",
    "business = pd.concat([business_1, business_2, business_3])\n",
    "\n",
    "# Check for and remove duplicates\n",
    "business = business.drop_duplicates()\n",
    "# Remove _1 from column names   \n",
    "business.columns = business.columns.str.replace('_1', '')\n",
    "business.to_csv('csv_files/business_codes.csv', index=False)\n",
    "\n",
    "# Convert list to string\n",
    "df['vedtektsfestetFormaal'] = df['vedtektsfestetFormaal'].apply(lambda x: ', '.join(map(str, x)) if isinstance(x, list) else \"NaN\")\n",
    "df['aktivitet'] = df['aktivitet'].apply(lambda x: ', '.join(map(str, x)) if isinstance(x, list) else \"NaN\")\n",
    "# Convert to integer\n",
    "df['sisteInnsendteAarsregnskap'] = pd.to_numeric(df['sisteInnsendteAarsregnskap'], downcast='integer').astype('Int64')"
   ]
  },
  {
   "attachments": {},
   "cell_type": "markdown",
   "metadata": {},
   "source": [
    "## Company relationships"
   ]
  },
  {
   "cell_type": "code",
   "execution_count": 100,
   "metadata": {},
   "outputs": [],
   "source": [
    "df[['organisasjonsnummer','naeringskode_1']].to_csv('csv_files/rel_business_1.csv', index=False)\n",
    "df[df['naeringskode_2'].notna()][['organisasjonsnummer','naeringskode_2']].to_csv('csv_files/rel_business_2.csv', index=False)\n",
    "df[df['naeringskode_3'].notna()][['organisasjonsnummer','naeringskode_3']].to_csv('csv_files/rel_business_3.csv', index=False)"
   ]
  },
  {
   "cell_type": "code",
   "execution_count": 106,
   "metadata": {},
   "outputs": [
    {
     "ename": "TypeError",
     "evalue": "bad operand type for unary -: 'list'",
     "output_type": "error",
     "traceback": [
      "\u001b[1;31m---------------------------------------------------------------------------\u001b[0m",
      "\u001b[1;31mTypeError\u001b[0m                                 Traceback (most recent call last)",
      "\u001b[1;32mc:\\Users\\toekle\\OneDrive - Capgemini\\Documents\\docker_neo4j\\data\\brreg_api.ipynb Cell 9\u001b[0m in \u001b[0;36m1\n\u001b[1;32m----> <a href='vscode-notebook-cell:/c%3A/Users/toekle/OneDrive%20-%20Capgemini/Documents/docker_neo4j/data/brreg_api.ipynb#X34sZmlsZQ%3D%3D?line=0'>1</a>\u001b[0m df[\u001b[39m-\u001b[39;49m[\u001b[39m'\u001b[39;49m\u001b[39mnaeringskode1\u001b[39;49m\u001b[39m'\u001b[39;49m]]\n",
      "\u001b[1;31mTypeError\u001b[0m: bad operand type for unary -: 'list'"
     ]
    }
   ],
   "source": [
    "df[-['naeringskode1']]"
   ]
  },
  {
   "attachments": {},
   "cell_type": "markdown",
   "metadata": {},
   "source": [
    "# Look at overordnet enhet"
   ]
  },
  {
   "cell_type": "code",
   "execution_count": 7,
   "metadata": {},
   "outputs": [
    {
     "data": {
      "text/plain": [
       "654     991012133\n",
       "719      97716163\n",
       "813     971045698\n",
       "814     971045698\n",
       "815     971045698\n",
       "816     971045698\n",
       "817     971045698\n",
       "818     971045698\n",
       "967     983887406\n",
       "968     972417858\n",
       "983     964965226\n",
       "984     964965226\n",
       "985     964965226\n",
       "986     964965226\n",
       "988     964965226\n",
       "998     964965226\n",
       "1097    872417842\n",
       "1431    983887457\n",
       "1518    964965226\n",
       "1541    915429785\n",
       "1543    971045698\n",
       "Name: overordnetEnhet, dtype: object"
      ]
     },
     "execution_count": 7,
     "metadata": {},
     "output_type": "execute_result"
    }
   ],
   "source": [
    "df[df['overordnetEnhet'] != \"nan\"]['overordnetEnhet']"
   ]
  },
  {
   "attachments": {},
   "cell_type": "markdown",
   "metadata": {},
   "source": [
    "# Store company data as csv"
   ]
  },
  {
   "cell_type": "code",
   "execution_count": 18,
   "metadata": {},
   "outputs": [],
   "source": []
  },
  {
   "cell_type": "code",
   "execution_count": 30,
   "metadata": {},
   "outputs": [],
   "source": [
    "df[['organisasjonsnummer', 'navn', 'organisasjonsform',\n",
    "       'registreringsdatoEnhetsregisteret',  'antallAnsatte', \n",
    "       'forretningsadresse', 'stiftelsesdato', 'vedtektsdato',\n",
    "       'vedtektsfestetFormaal', 'aktivitet', 'links',\n",
    "       'sisteInnsendteAarsregnskap', 'kommune','overordnetEnhet']].to_csv('csv_files/enheter.csv', index=False)"
   ]
  },
  {
   "attachments": {},
   "cell_type": "markdown",
   "metadata": {},
   "source": [
    "# Get roles in companies"
   ]
  },
  {
   "cell_type": "code",
   "execution_count": 85,
   "metadata": {},
   "outputs": [
    {
     "name": "stdout",
     "output_type": "stream",
     "text": [
      "HTTP error occurred: 404 Client Error:  for url: https://data.brreg.no/enhetsregisteret/api/enheter/923639497/roller\n",
      "HTTP error occurred: 404 Client Error:  for url: https://data.brreg.no/enhetsregisteret/api/enheter/912843424/roller\n",
      "HTTP error occurred: 404 Client Error:  for url: https://data.brreg.no/enhetsregisteret/api/enheter/916133367/roller\n",
      "HTTP error occurred: 404 Client Error:  for url: https://data.brreg.no/enhetsregisteret/api/enheter/911940000/roller\n",
      "HTTP error occurred: 404 Client Error:  for url: https://data.brreg.no/enhetsregisteret/api/enheter/976855612/roller\n",
      "HTTP error occurred: 404 Client Error:  for url: https://data.brreg.no/enhetsregisteret/api/enheter/990781451/roller\n",
      "HTTP error occurred: 404 Client Error:  for url: https://data.brreg.no/enhetsregisteret/api/enheter/995383039/roller\n",
      "HTTP error occurred: 404 Client Error:  for url: https://data.brreg.no/enhetsregisteret/api/enheter/981603621/roller\n"
     ]
    }
   ],
   "source": [
    "orgnrs = df['organisasjonsnummer'].tolist()\n",
    "\n",
    "# Function to fetch roles data for a given organization number\n",
    "def fetch_roles_data(orgnr):\n",
    "    url = f'https://data.brreg.no/enhetsregisteret/api/enheter/{orgnr}/roller'\n",
    "    headers = {'Accept': 'application/json'}\n",
    "    try:\n",
    "        response = requests.get(url, headers=headers)\n",
    "        response.raise_for_status()  # Raises HTTPError for bad responses\n",
    "        data = response.json()\n",
    "        return data['rollegrupper']\n",
    "    except requests.exceptions.HTTPError as err:\n",
    "        print(f\"HTTP error occurred: {err}\")\n",
    "    except Exception as err:\n",
    "        print(f\"An error occurred: {err}\")\n",
    "\n",
    "# List to hold all collected data\n",
    "person_data = []\n",
    "company_data = []\n",
    "\n",
    "for orgnr in orgnrs:\n",
    "    roles_data = fetch_roles_data(orgnr)\n",
    "    if roles_data:  # Check if data was successfully fetched\n",
    "        for role_group in roles_data:\n",
    "            # Extract relevant information from each role group\n",
    "            role_group_type = role_group['type']['beskrivelse']\n",
    "            last_changed = role_group.get('sistEndret', 'Unknown')\n",
    "            for role in role_group['roller']:\n",
    "                # Depending on whether it's a person or a company, the structure might differ\n",
    "                if 'person' in role:\n",
    "                    person_info = role['person']\n",
    "                    person_data.append({\n",
    "                        'orgnr': orgnr,\n",
    "                        'role': role_group_type,\n",
    "                        'name': f\"{person_info.get('navn').get('fornavn', '')} {person_info.get('navn').get('mellomnavn', '')} {person_info.get('navn').get('etternavn', '')}\".strip(),\n",
    "                        'birth_date': person_info.get('fodselsdato'),\n",
    "                    })\n",
    "                elif 'enhet' in role:\n",
    "                    company_info = role['enhet']\n",
    "                    company_data.append({\n",
    "                        'orgnr': orgnr,\n",
    "                        'role': role_group_type,\n",
    "                        'company_name': company_info.get('navn', ''),\n",
    "                        'company_orgnr': company_info.get('organisasjonsnummer'),\n",
    "                        'last_changed': last_changed\n",
    "                    })\n",
    "\n",
    "df_persons = pd.DataFrame(person_data)\n",
    "df_companies = pd.DataFrame(company_data)"
   ]
  },
  {
   "cell_type": "code",
   "execution_count": 86,
   "metadata": {},
   "outputs": [],
   "source": [
    "df_persons.to_csv('csv_files/roles_persons.csv', index=False)\n",
    "df_companies.to_csv('csv_files/roles_companies.csv', index=False)"
   ]
  },
  {
   "cell_type": "code",
   "execution_count": 92,
   "metadata": {},
   "outputs": [
    {
     "data": {
      "text/plain": [
       "324"
      ]
     },
     "execution_count": 92,
     "metadata": {},
     "output_type": "execute_result"
    }
   ],
   "source": [
    "len(df_companies['company_orgnr'].unique())"
   ]
  },
  {
   "attachments": {},
   "cell_type": "markdown",
   "metadata": {},
   "source": [
    "# Unique constraints\n",
    "```cypher\n",
    "CREATE CONSTRAINT organisasjonsnummer_unique IF NOT EXISTS FOR (c:Company) REQUIRE c.organisasjonsnummer IS UNIQUE\n",
    "\n",
    "```"
   ]
  },
  {
   "cell_type": "code",
   "execution_count": 94,
   "metadata": {},
   "outputs": [
    {
     "data": {
      "text/plain": [
       "(5586, 3)"
      ]
     },
     "execution_count": 94,
     "metadata": {},
     "output_type": "execute_result"
    }
   ],
   "source": [
    "df_persons.groupby(['name', 'birth_date']).size().reset_index(name='counts').shape"
   ]
  }
 ],
 "metadata": {
  "kernelspec": {
   "display_name": "Python 3",
   "language": "python",
   "name": "python3"
  },
  "language_info": {
   "codemirror_mode": {
    "name": "ipython",
    "version": 3
   },
   "file_extension": ".py",
   "mimetype": "text/x-python",
   "name": "python",
   "nbconvert_exporter": "python",
   "pygments_lexer": "ipython3",
   "version": "3.11.0"
  },
  "orig_nbformat": 4
 },
 "nbformat": 4,
 "nbformat_minor": 2
}
