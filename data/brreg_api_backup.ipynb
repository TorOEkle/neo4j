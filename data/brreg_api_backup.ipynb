{
 "cells": [
  {
   "attachments": {},
   "cell_type": "markdown",
   "metadata": {},
   "source": [
    "# Teste brreg API\n",
    "- <https://data.brreg.no/enhetsregisteret/oppslag/enheter?kommunenummer=1103,1108&fraAntallAnsatte=10&tilAntallAnsatte=50000&sort=navn.norwegian,asc>"
   ]
  },
  {
   "cell_type": "code",
   "execution_count": 1,
   "metadata": {},
   "outputs": [],
   "source": [
    "import requests\n",
    "import pandas as pd\n",
    "from brreg.enhetsregisteret import Client\n",
    "\n"
   ]
  },
  {
   "cell_type": "code",
   "execution_count": null,
   "metadata": {},
   "outputs": [],
   "source": []
  },
  {
   "cell_type": "code",
   "execution_count": 23,
   "metadata": {},
   "outputs": [],
   "source": [
    "df = pd.read_json('enheter_sandnes_stavanger.json')\n",
    "df['naeringskode_1'] = df['naeringskode1'].apply(lambda x: x['kode'])\n",
    "df['naeringsbeskrivelse_1'] = df['naeringskode1'].apply(lambda x: x['beskrivelse'])\n",
    "df['organisasjonsform'] = df['organisasjonsform'].apply(lambda x: x['beskrivelse'])\n",
    "#need to handle nan value for  naeringskode2 and 3\n",
    "# Function to extract 'kode' from dictionary or return None for NaN\n",
    "def extract_kode(x):\n",
    "    if isinstance(x, dict):\n",
    "        return x['kode']\n",
    "    else:\n",
    "        return None\n",
    "\n",
    "# Function to extract 'beskrivelse' from dictionary or return None for NaN\n",
    "def extract_beskrivelse(x):\n",
    "    if isinstance(x, dict):\n",
    "        return x['beskrivelse']\n",
    "    else:\n",
    "        return None\n",
    "df['naeringskode_2'] = df['naeringskode2'].apply(extract_kode)\n",
    "df['naeringsbeskrivelse_2'] = df['naeringskode2'].apply(extract_beskrivelse)\n",
    "df['naeringskode_3'] = df['naeringskode3'].apply(extract_kode)\n",
    "df['naeringsbeskrivelse_3'] = df['naeringskode3'].apply(extract_beskrivelse)\n",
    "df['kommune'] = df['forretningsadresse'].apply(lambda x: x['kommune'])\n",
    "df['forretningsadresse'] = df['forretningsadresse'].apply(lambda x: f\"{', '.join(x['adresse'])}, {x['postnummer']} {x['poststed']}\")\n",
    "#change format of overordnet_enhet to text and remove decimal from float representation\n",
    "df['overordnetEnhet'] = df['overordnetEnhet'].astype(str).apply(lambda x: x.rstrip('.0'))\n",
    "df['organisasjonsnummer'] = df['organisasjonsnummer'].astype(str)"
   ]
  },
  {
   "cell_type": "code",
   "execution_count": 27,
   "metadata": {},
   "outputs": [],
   "source": [
    "# Convert list to string\n",
    "df['vedtektsfestetFormaal'] = df['vedtektsfestetFormaal'].apply(lambda x: ', '.join(map(str, x)) if isinstance(x, list) else \"NaN\")\n",
    "df['aktivitet'] = df['aktivitet'].apply(lambda x: ', '.join(map(str, x)) if isinstance(x, list) else \"NaN\")\n",
    "# Convert to integer\n",
    "df['sisteInnsendteAarsregnskap'] = pd.to_numeric(df['sisteInnsendteAarsregnskap'], downcast='integer').astype('Int64')"
   ]
  },
  {
   "attachments": {},
   "cell_type": "markdown",
   "metadata": {},
   "source": [
    "## Select columns for companies to store in csv"
   ]
  },
  {
   "cell_type": "code",
   "execution_count": 10,
   "metadata": {},
   "outputs": [
    {
     "data": {
      "text/plain": [
       "Index(['organisasjonsnummer', 'navn', 'organisasjonsform',\n",
       "       'registreringsdatoEnhetsregisteret', 'registrertIMvaregisteret',\n",
       "       'naeringskode1', 'antallAnsatte', 'harRegistrertAntallAnsatte',\n",
       "       'forretningsadresse', 'stiftelsesdato', 'institusjonellSektorkode',\n",
       "       'registrertIForetaksregisteret', 'registrertIStiftelsesregisteret',\n",
       "       'registrertIFrivillighetsregisteret', 'konkurs', 'underAvvikling',\n",
       "       'underTvangsavviklingEllerTvangsopplosning', 'maalform', 'vedtektsdato',\n",
       "       'vedtektsfestetFormaal', 'aktivitet', 'links',\n",
       "       'sisteInnsendteAarsregnskap', 'frivilligMvaRegistrertBeskrivelser',\n",
       "       'naeringskode2', 'naeringskode3', 'postadresse', 'hjemmeside',\n",
       "       'hjelpeenhetskode', 'overordnetEnhet', 'naeringskode_1',\n",
       "       'naeringsbeskrivelse_1', 'naeringskode_2', 'naeringsbeskrivelse_2',\n",
       "       'naeringskode_3', 'naeringsbeskrivelse_3', 'kommune'],\n",
       "      dtype='object')"
      ]
     },
     "execution_count": 10,
     "metadata": {},
     "output_type": "execute_result"
    }
   ],
   "source": [
    "df.columns"
   ]
  },
  {
   "attachments": {},
   "cell_type": "markdown",
   "metadata": {},
   "source": [
    "## Create data for company codes and prepare for relationships"
   ]
  },
  {
   "cell_type": "code",
   "execution_count": 20,
   "metadata": {},
   "outputs": [],
   "source": [
    "business_1 = df[['naeringskode_1', 'naeringsbeskrivelse_1']].drop_duplicates()\n",
    "business_2 = df[['naeringskode_2', 'naeringsbeskrivelse_2']].drop_duplicates()\n",
    "business_3 = df[['naeringskode_3', 'naeringsbeskrivelse_3']].drop_duplicates()\n",
    "business_2.columns = business_1.columns\n",
    "business_3.columns = business_1.columns\n",
    "business = pd.concat([business_1, business_2, business_3])\n",
    "\n",
    "# Check for and remove duplicates\n",
    "business = business.drop_duplicates()\n",
    "# Remove _1 from column names   \n",
    "business.columns = business.columns.str.replace('_1', '')\n",
    "business.to_csv('csv_files/business_codes.csv', index=False)\n",
    "\n",
    "# Convert list to string\n",
    "df['vedtektsfestetFormaal'] = df['vedtektsfestetFormaal'].apply(lambda x: ', '.join(map(str, x)) if isinstance(x, list) else \"NaN\")\n",
    "df['aktivitet'] = df['aktivitet'].apply(lambda x: ', '.join(map(str, x)) if isinstance(x, list) else \"NaN\")\n",
    "# Convert to integer\n",
    "df['sisteInnsendteAarsregnskap'] = pd.to_numeric(df['sisteInnsendteAarsregnskap'], downcast='integer').astype('Int64')"
   ]
  },
  {
   "attachments": {},
   "cell_type": "markdown",
   "metadata": {},
   "source": [
    "## Company relationships"
   ]
  },
  {
   "cell_type": "code",
   "execution_count": 100,
   "metadata": {},
   "outputs": [],
   "source": [
    "df[['organisasjonsnummer','naeringskode_1']].to_csv('csv_files/rel_business_1.csv', index=False)\n",
    "df[df['naeringskode_2'].notna()][['organisasjonsnummer','naeringskode_2']].to_csv('csv_files/rel_business_2.csv', index=False)\n",
    "df[df['naeringskode_3'].notna()][['organisasjonsnummer','naeringskode_3']].to_csv('csv_files/rel_business_3.csv', index=False)"
   ]
  },
  {
   "cell_type": "code",
   "execution_count": 106,
   "metadata": {},
   "outputs": [
    {
     "ename": "TypeError",
     "evalue": "bad operand type for unary -: 'list'",
     "output_type": "error",
     "traceback": [
      "\u001b[1;31m---------------------------------------------------------------------------\u001b[0m",
      "\u001b[1;31mTypeError\u001b[0m                                 Traceback (most recent call last)",
      "\u001b[1;32mc:\\Users\\toekle\\OneDrive - Capgemini\\Documents\\docker_neo4j\\data\\brreg_api.ipynb Cell 9\u001b[0m in \u001b[0;36m1\n\u001b[1;32m----> <a href='vscode-notebook-cell:/c%3A/Users/toekle/OneDrive%20-%20Capgemini/Documents/docker_neo4j/data/brreg_api.ipynb#X34sZmlsZQ%3D%3D?line=0'>1</a>\u001b[0m df[\u001b[39m-\u001b[39;49m[\u001b[39m'\u001b[39;49m\u001b[39mnaeringskode1\u001b[39;49m\u001b[39m'\u001b[39;49m]]\n",
      "\u001b[1;31mTypeError\u001b[0m: bad operand type for unary -: 'list'"
     ]
    }
   ],
   "source": [
    "df[-['naeringskode1']]"
   ]
  },
  {
   "attachments": {},
   "cell_type": "markdown",
   "metadata": {},
   "source": [
    "# Look at overordnet enhet"
   ]
  },
  {
   "cell_type": "code",
   "execution_count": 7,
   "metadata": {},
   "outputs": [
    {
     "data": {
      "text/plain": [
       "654     991012133\n",
       "719      97716163\n",
       "813     971045698\n",
       "814     971045698\n",
       "815     971045698\n",
       "816     971045698\n",
       "817     971045698\n",
       "818     971045698\n",
       "967     983887406\n",
       "968     972417858\n",
       "983     964965226\n",
       "984     964965226\n",
       "985     964965226\n",
       "986     964965226\n",
       "988     964965226\n",
       "998     964965226\n",
       "1097    872417842\n",
       "1431    983887457\n",
       "1518    964965226\n",
       "1541    915429785\n",
       "1543    971045698\n",
       "Name: overordnetEnhet, dtype: object"
      ]
     },
     "execution_count": 7,
     "metadata": {},
     "output_type": "execute_result"
    }
   ],
   "source": [
    "df[df['overordnetEnhet'] != \"nan\"]['overordnetEnhet']"
   ]
  },
  {
   "attachments": {},
   "cell_type": "markdown",
   "metadata": {},
   "source": [
    "# Store company data as csv"
   ]
  },
  {
   "cell_type": "code",
   "execution_count": 18,
   "metadata": {},
   "outputs": [],
   "source": []
  },
  {
   "cell_type": "code",
   "execution_count": 29,
   "metadata": {},
   "outputs": [
    {
     "data": {
      "text/html": [
       "<div>\n",
       "<style scoped>\n",
       "    .dataframe tbody tr th:only-of-type {\n",
       "        vertical-align: middle;\n",
       "    }\n",
       "\n",
       "    .dataframe tbody tr th {\n",
       "        vertical-align: top;\n",
       "    }\n",
       "\n",
       "    .dataframe thead th {\n",
       "        text-align: right;\n",
       "    }\n",
       "</style>\n",
       "<table border=\"1\" class=\"dataframe\">\n",
       "  <thead>\n",
       "    <tr style=\"text-align: right;\">\n",
       "      <th></th>\n",
       "      <th>organisasjonsnummer</th>\n",
       "      <th>navn</th>\n",
       "      <th>organisasjonsform</th>\n",
       "      <th>registreringsdatoEnhetsregisteret</th>\n",
       "      <th>antallAnsatte</th>\n",
       "      <th>forretningsadresse</th>\n",
       "      <th>stiftelsesdato</th>\n",
       "      <th>vedtektsdato</th>\n",
       "      <th>vedtektsfestetFormaal</th>\n",
       "      <th>aktivitet</th>\n",
       "      <th>links</th>\n",
       "      <th>sisteInnsendteAarsregnskap</th>\n",
       "      <th>kommune</th>\n",
       "      <th>overordnetEnhet</th>\n",
       "    </tr>\n",
       "  </thead>\n",
       "  <tbody>\n",
       "    <tr>\n",
       "      <th>0</th>\n",
       "      <td>931648160</td>\n",
       "      <td>24/7 BYGGRENT AS</td>\n",
       "      <td>Aksjeselskap</td>\n",
       "      <td>2023-06-27</td>\n",
       "      <td>10</td>\n",
       "      <td>Svend Foyns gate 48, 4016 STAVANGER</td>\n",
       "      <td>2023-05-11</td>\n",
       "      <td>2023-05-11</td>\n",
       "      <td>Rengjøringsbyrå, utvendig og innvendig rengjør...</td>\n",
       "      <td>Rengjøring av bygninger utvendig, vinduer og l...</td>\n",
       "      <td>[]</td>\n",
       "      <td>&lt;NA&gt;</td>\n",
       "      <td>STAVANGER</td>\n",
       "      <td>nan</td>\n",
       "    </tr>\n",
       "    <tr>\n",
       "      <th>1</th>\n",
       "      <td>925178853</td>\n",
       "      <td>A. IDSØE STAVANGER AS</td>\n",
       "      <td>Aksjeselskap</td>\n",
       "      <td>2020-06-10</td>\n",
       "      <td>32</td>\n",
       "      <td>Verksgata 3, 4013 STAVANGER</td>\n",
       "      <td>2020-04-30</td>\n",
       "      <td>2021-02-01</td>\n",
       "      <td>Kjøp og salg samt produksjon av næringsmidler ...</td>\n",
       "      <td>Produksjon av kjøtt- og fjørfevarer samt kjøp ...</td>\n",
       "      <td>[]</td>\n",
       "      <td>2022</td>\n",
       "      <td>STAVANGER</td>\n",
       "      <td>nan</td>\n",
       "    </tr>\n",
       "    <tr>\n",
       "      <th>2</th>\n",
       "      <td>914807077</td>\n",
       "      <td>A/S Norske Shell</td>\n",
       "      <td>Aksjeselskap</td>\n",
       "      <td>1995-03-12</td>\n",
       "      <td>464</td>\n",
       "      <td>Løkkeveien 103, 4007 STAVANGER</td>\n",
       "      <td>1912-10-14</td>\n",
       "      <td>2014-05-23</td>\n",
       "      <td>- Lete etter og utvinne petroleum,,  , - raffi...</td>\n",
       "      <td>- Lete etter og utvinne petroleum,,  , - raffi...</td>\n",
       "      <td>[]</td>\n",
       "      <td>2022</td>\n",
       "      <td>STAVANGER</td>\n",
       "      <td>nan</td>\n",
       "    </tr>\n",
       "    <tr>\n",
       "      <th>3</th>\n",
       "      <td>890046452</td>\n",
       "      <td>A2 HOLDING AS</td>\n",
       "      <td>Aksjeselskap</td>\n",
       "      <td>2006-08-10</td>\n",
       "      <td>58</td>\n",
       "      <td>c/o Ragnhild Eielsen Wiig, Mosestien 8B, 4018 ...</td>\n",
       "      <td>2006-06-29</td>\n",
       "      <td>2011-05-13</td>\n",
       "      <td>Eie og drive barnehage i Stavanger. Selskapet ...</td>\n",
       "      <td>Bygging og drift av barnehage.</td>\n",
       "      <td>[]</td>\n",
       "      <td>2022</td>\n",
       "      <td>STAVANGER</td>\n",
       "      <td>nan</td>\n",
       "    </tr>\n",
       "    <tr>\n",
       "      <th>4</th>\n",
       "      <td>928285553</td>\n",
       "      <td>A3 TRANSPORT AS</td>\n",
       "      <td>Aksjeselskap</td>\n",
       "      <td>2021-12-06</td>\n",
       "      <td>13</td>\n",
       "      <td>Nikkelveien 8, 4313 SANDNES</td>\n",
       "      <td>2021-11-24</td>\n",
       "      <td>2022-08-12</td>\n",
       "      <td>Transport og spedisjonsvirksomhet og hva derme...</td>\n",
       "      <td>Transport og spedisjonsvirksomhet og hva derme...</td>\n",
       "      <td>[]</td>\n",
       "      <td>2022</td>\n",
       "      <td>SANDNES</td>\n",
       "      <td>nan</td>\n",
       "    </tr>\n",
       "    <tr>\n",
       "      <th>...</th>\n",
       "      <td>...</td>\n",
       "      <td>...</td>\n",
       "      <td>...</td>\n",
       "      <td>...</td>\n",
       "      <td>...</td>\n",
       "      <td>...</td>\n",
       "      <td>...</td>\n",
       "      <td>...</td>\n",
       "      <td>...</td>\n",
       "      <td>...</td>\n",
       "      <td>...</td>\n",
       "      <td>...</td>\n",
       "      <td>...</td>\n",
       "      <td>...</td>\n",
       "    </tr>\n",
       "    <tr>\n",
       "      <th>1667</th>\n",
       "      <td>999236022</td>\n",
       "      <td>NABOEN AS</td>\n",
       "      <td>Aksjeselskap</td>\n",
       "      <td>2012-12-06</td>\n",
       "      <td>14</td>\n",
       "      <td>Maskinveien 25, 4033 STAVANGER</td>\n",
       "      <td>2012-10-26</td>\n",
       "      <td>2022-04-28</td>\n",
       "      <td>Investering i andre selskaper.</td>\n",
       "      <td>Investering i andre selskaper.</td>\n",
       "      <td>[]</td>\n",
       "      <td>2022</td>\n",
       "      <td>STAVANGER</td>\n",
       "      <td>nan</td>\n",
       "    </tr>\n",
       "    <tr>\n",
       "      <th>1668</th>\n",
       "      <td>999530117</td>\n",
       "      <td>TRYGG EIVIND SKJELDE AS</td>\n",
       "      <td>Aksjeselskap</td>\n",
       "      <td>2013-01-29</td>\n",
       "      <td>17</td>\n",
       "      <td>Haugesundsgata 43, 4014 STAVANGER</td>\n",
       "      <td>2012-12-17</td>\n",
       "      <td>2012-12-17</td>\n",
       "      <td>Selv, gjennom hel- eller deleide selskaper ell...</td>\n",
       "      <td>Butikkhandel med dagligvarer.</td>\n",
       "      <td>[]</td>\n",
       "      <td>2022</td>\n",
       "      <td>STAVANGER</td>\n",
       "      <td>nan</td>\n",
       "    </tr>\n",
       "    <tr>\n",
       "      <th>1669</th>\n",
       "      <td>919415630</td>\n",
       "      <td>DESERT CONTROL AS</td>\n",
       "      <td>Aksjeselskap</td>\n",
       "      <td>2017-09-07</td>\n",
       "      <td>12</td>\n",
       "      <td>FOMO Works, Grenseveien 21, 4313 SANDNES</td>\n",
       "      <td>2017-06-27</td>\n",
       "      <td>2023-11-17</td>\n",
       "      <td>Utvikle, produsere, markedsføre og selge produ...</td>\n",
       "      <td>utvikle, produsere, markedsføre og selge utsty...</td>\n",
       "      <td>[]</td>\n",
       "      <td>2022</td>\n",
       "      <td>SANDNES</td>\n",
       "      <td>nan</td>\n",
       "    </tr>\n",
       "    <tr>\n",
       "      <th>1670</th>\n",
       "      <td>918324909</td>\n",
       "      <td>NMS DRIFT AS</td>\n",
       "      <td>Aksjeselskap</td>\n",
       "      <td>2017-01-06</td>\n",
       "      <td>87</td>\n",
       "      <td>Misjonsmarka 12, 4024 STAVANGER</td>\n",
       "      <td>2016-12-19</td>\n",
       "      <td>2018-12-21</td>\n",
       "      <td>Realisere formålene til Det Norske Misjonssels...</td>\n",
       "      <td>Drifte NMS sine eiendommer.</td>\n",
       "      <td>[]</td>\n",
       "      <td>2022</td>\n",
       "      <td>STAVANGER</td>\n",
       "      <td>nan</td>\n",
       "    </tr>\n",
       "    <tr>\n",
       "      <th>1671</th>\n",
       "      <td>991478442</td>\n",
       "      <td>JADARHUS BYGG AS</td>\n",
       "      <td>Aksjeselskap</td>\n",
       "      <td>2007-07-25</td>\n",
       "      <td>17</td>\n",
       "      <td>Heiamyrå 20, 4031 STAVANGER</td>\n",
       "      <td>2007-06-04</td>\n",
       "      <td>2023-07-10</td>\n",
       "      <td>Rehabilitering og påbygging av bolighus og lei...</td>\n",
       "      <td>Rehabilitering og påbygging av bolighus og lei...</td>\n",
       "      <td>[]</td>\n",
       "      <td>2022</td>\n",
       "      <td>STAVANGER</td>\n",
       "      <td>nan</td>\n",
       "    </tr>\n",
       "  </tbody>\n",
       "</table>\n",
       "<p>1672 rows × 14 columns</p>\n",
       "</div>"
      ],
      "text/plain": [
       "     organisasjonsnummer                     navn organisasjonsform  \\\n",
       "0              931648160         24/7 BYGGRENT AS      Aksjeselskap   \n",
       "1              925178853    A. IDSØE STAVANGER AS      Aksjeselskap   \n",
       "2              914807077         A/S Norske Shell      Aksjeselskap   \n",
       "3              890046452            A2 HOLDING AS      Aksjeselskap   \n",
       "4              928285553          A3 TRANSPORT AS      Aksjeselskap   \n",
       "...                  ...                      ...               ...   \n",
       "1667           999236022                NABOEN AS      Aksjeselskap   \n",
       "1668           999530117  TRYGG EIVIND SKJELDE AS      Aksjeselskap   \n",
       "1669           919415630        DESERT CONTROL AS      Aksjeselskap   \n",
       "1670           918324909             NMS DRIFT AS      Aksjeselskap   \n",
       "1671           991478442         JADARHUS BYGG AS      Aksjeselskap   \n",
       "\n",
       "     registreringsdatoEnhetsregisteret  antallAnsatte  \\\n",
       "0                           2023-06-27             10   \n",
       "1                           2020-06-10             32   \n",
       "2                           1995-03-12            464   \n",
       "3                           2006-08-10             58   \n",
       "4                           2021-12-06             13   \n",
       "...                                ...            ...   \n",
       "1667                        2012-12-06             14   \n",
       "1668                        2013-01-29             17   \n",
       "1669                        2017-09-07             12   \n",
       "1670                        2017-01-06             87   \n",
       "1671                        2007-07-25             17   \n",
       "\n",
       "                                     forretningsadresse stiftelsesdato  \\\n",
       "0                   Svend Foyns gate 48, 4016 STAVANGER     2023-05-11   \n",
       "1                           Verksgata 3, 4013 STAVANGER     2020-04-30   \n",
       "2                        Løkkeveien 103, 4007 STAVANGER     1912-10-14   \n",
       "3     c/o Ragnhild Eielsen Wiig, Mosestien 8B, 4018 ...     2006-06-29   \n",
       "4                           Nikkelveien 8, 4313 SANDNES     2021-11-24   \n",
       "...                                                 ...            ...   \n",
       "1667                     Maskinveien 25, 4033 STAVANGER     2012-10-26   \n",
       "1668                  Haugesundsgata 43, 4014 STAVANGER     2012-12-17   \n",
       "1669           FOMO Works, Grenseveien 21, 4313 SANDNES     2017-06-27   \n",
       "1670                    Misjonsmarka 12, 4024 STAVANGER     2016-12-19   \n",
       "1671                        Heiamyrå 20, 4031 STAVANGER     2007-06-04   \n",
       "\n",
       "     vedtektsdato                              vedtektsfestetFormaal  \\\n",
       "0      2023-05-11  Rengjøringsbyrå, utvendig og innvendig rengjør...   \n",
       "1      2021-02-01  Kjøp og salg samt produksjon av næringsmidler ...   \n",
       "2      2014-05-23  - Lete etter og utvinne petroleum,,  , - raffi...   \n",
       "3      2011-05-13  Eie og drive barnehage i Stavanger. Selskapet ...   \n",
       "4      2022-08-12  Transport og spedisjonsvirksomhet og hva derme...   \n",
       "...           ...                                                ...   \n",
       "1667   2022-04-28                     Investering i andre selskaper.   \n",
       "1668   2012-12-17  Selv, gjennom hel- eller deleide selskaper ell...   \n",
       "1669   2023-11-17  Utvikle, produsere, markedsføre og selge produ...   \n",
       "1670   2018-12-21  Realisere formålene til Det Norske Misjonssels...   \n",
       "1671   2023-07-10  Rehabilitering og påbygging av bolighus og lei...   \n",
       "\n",
       "                                              aktivitet links  \\\n",
       "0     Rengjøring av bygninger utvendig, vinduer og l...    []   \n",
       "1     Produksjon av kjøtt- og fjørfevarer samt kjøp ...    []   \n",
       "2     - Lete etter og utvinne petroleum,,  , - raffi...    []   \n",
       "3                        Bygging og drift av barnehage.    []   \n",
       "4     Transport og spedisjonsvirksomhet og hva derme...    []   \n",
       "...                                                 ...   ...   \n",
       "1667                     Investering i andre selskaper.    []   \n",
       "1668                      Butikkhandel med dagligvarer.    []   \n",
       "1669  utvikle, produsere, markedsføre og selge utsty...    []   \n",
       "1670                        Drifte NMS sine eiendommer.    []   \n",
       "1671  Rehabilitering og påbygging av bolighus og lei...    []   \n",
       "\n",
       "      sisteInnsendteAarsregnskap    kommune overordnetEnhet  \n",
       "0                           <NA>  STAVANGER             nan  \n",
       "1                           2022  STAVANGER             nan  \n",
       "2                           2022  STAVANGER             nan  \n",
       "3                           2022  STAVANGER             nan  \n",
       "4                           2022    SANDNES             nan  \n",
       "...                          ...        ...             ...  \n",
       "1667                        2022  STAVANGER             nan  \n",
       "1668                        2022  STAVANGER             nan  \n",
       "1669                        2022    SANDNES             nan  \n",
       "1670                        2022  STAVANGER             nan  \n",
       "1671                        2022  STAVANGER             nan  \n",
       "\n",
       "[1672 rows x 14 columns]"
      ]
     },
     "execution_count": 29,
     "metadata": {},
     "output_type": "execute_result"
    }
   ],
   "source": [
    "df[['organisasjonsnummer', 'navn', 'organisasjonsform',\n",
    "       'registreringsdatoEnhetsregisteret',  'antallAnsatte', \n",
    "       'forretningsadresse', 'stiftelsesdato', 'vedtektsdato',\n",
    "       'vedtektsfestetFormaal', 'aktivitet', 'links',\n",
    "       'sisteInnsendteAarsregnskap', 'kommune','overordnetEnhet']].to_csv('csv_files/enheter.csv', index=False)"
   ]
  },
  {
   "cell_type": "code",
   "execution_count": 25,
   "metadata": {},
   "outputs": [
    {
     "data": {
      "text/plain": [
       "list"
      ]
     },
     "execution_count": 25,
     "metadata": {},
     "output_type": "execute_result"
    }
   ],
   "source": [
    "type(df[\"vedtektsfestetFormaal\"].iloc[0])"
   ]
  },
  {
   "cell_type": "code",
   "execution_count": 15,
   "metadata": {},
   "outputs": [],
   "source": [
    "\n"
   ]
  },
  {
   "cell_type": "code",
   "execution_count": 9,
   "metadata": {},
   "outputs": [],
   "source": [
    "# /enhetsregisteret/api/enheter/{orgnr}\n",
    "# Define the API endpoint URL\n",
    "url = \"https://data.brreg.no/enhetsregisteret/oppslag/enheter/974760673/roller\"\n",
    "\n",
    "# Define query parameters\n",
    "params = {\"orgnr\": 974760673}\n",
    "\n",
    "# Make an HTTP GET request to the API\n",
    "response = requests.get(url, params=params)"
   ]
  },
  {
   "cell_type": "code",
   "execution_count": 10,
   "metadata": {},
   "outputs": [],
   "source": [
    "# Define the API endpoint URL\n",
    "orgnr = '915501680'\n",
    "url = f'https://data.brreg.no/enhetsregisteret/api/enheter/{orgnr}/roller'\n",
    "\n",
    "# Define headers for the request\n",
    "headers = {\n",
    "    'Accept': 'application/json'\n",
    "}\n",
    "\n",
    "# Make an HTTP GET request to the API with the specified headers\n",
    "response = requests.get(url, headers=headers)\n",
    "data = response.json()"
   ]
  },
  {
   "cell_type": "code",
   "execution_count": 12,
   "metadata": {},
   "outputs": [
    {
     "ename": "AttributeError",
     "evalue": "'dict' object has no attribute 'to_json'",
     "output_type": "error",
     "traceback": [
      "\u001b[1;31m---------------------------------------------------------------------------\u001b[0m",
      "\u001b[1;31mAttributeError\u001b[0m                            Traceback (most recent call last)",
      "\u001b[1;32mc:\\Users\\toekle\\OneDrive - Capgemini\\Documents\\docker_neo4j\\data\\brreg_api.ipynb Cell 16\u001b[0m in \u001b[0;36m1\n\u001b[1;32m----> <a href='vscode-notebook-cell:/c%3A/Users/toekle/OneDrive%20-%20Capgemini/Documents/docker_neo4j/data/brreg_api.ipynb#X30sZmlsZQ%3D%3D?line=0'>1</a>\u001b[0m data\u001b[39m.\u001b[39;49mto_json(\u001b[39m'\u001b[39m\u001b[39mroles.json\u001b[39m\u001b[39m'\u001b[39m)\n",
      "\u001b[1;31mAttributeError\u001b[0m: 'dict' object has no attribute 'to_json'"
     ]
    }
   ],
   "source": [
    "data.to_json('roles.json')"
   ]
  },
  {
   "cell_type": "code",
   "execution_count": 13,
   "metadata": {},
   "outputs": [
    {
     "ename": "KeyError",
     "evalue": "'enhet'",
     "output_type": "error",
     "traceback": [
      "\u001b[1;31m---------------------------------------------------------------------------\u001b[0m",
      "\u001b[1;31mKeyError\u001b[0m                                  Traceback (most recent call last)",
      "\u001b[1;32mc:\\Users\\toekle\\OneDrive - Capgemini\\Documents\\docker_neo4j\\data\\brreg_api.ipynb Cell 17\u001b[0m in \u001b[0;36m1\n\u001b[0;32m      <a href='vscode-notebook-cell:/c%3A/Users/toekle/OneDrive%20-%20Capgemini/Documents/docker_neo4j/data/brreg_api.ipynb#X21sZmlsZQ%3D%3D?line=8'>9</a>\u001b[0m \u001b[39mfor\u001b[39;00m role \u001b[39min\u001b[39;00m role_group[\u001b[39m'\u001b[39m\u001b[39mroller\u001b[39m\u001b[39m'\u001b[39m]:\n\u001b[0;32m     <a href='vscode-notebook-cell:/c%3A/Users/toekle/OneDrive%20-%20Capgemini/Documents/docker_neo4j/data/brreg_api.ipynb#X21sZmlsZQ%3D%3D?line=9'>10</a>\u001b[0m     person \u001b[39m=\u001b[39m role\u001b[39m.\u001b[39mget(\u001b[39m'\u001b[39m\u001b[39mperson\u001b[39m\u001b[39m'\u001b[39m, {})  \u001b[39m# Check if 'person' key exists, and if not, use an empty dictionary\u001b[39;00m\n\u001b[1;32m---> <a href='vscode-notebook-cell:/c%3A/Users/toekle/OneDrive%20-%20Capgemini/Documents/docker_neo4j/data/brreg_api.ipynb#X21sZmlsZQ%3D%3D?line=10'>11</a>\u001b[0m     name \u001b[39m=\u001b[39m role[\u001b[39m'\u001b[39;49m\u001b[39menhet\u001b[39;49m\u001b[39m'\u001b[39;49m][\u001b[39m'\u001b[39m\u001b[39mnavn\u001b[39m\u001b[39m'\u001b[39m][\u001b[39m0\u001b[39m]\n\u001b[0;32m     <a href='vscode-notebook-cell:/c%3A/Users/toekle/OneDrive%20-%20Capgemini/Documents/docker_neo4j/data/brreg_api.ipynb#X21sZmlsZQ%3D%3D?line=11'>12</a>\u001b[0m     \u001b[39m# Check if \"date_of_birth\" is available (for a person)\u001b[39;00m\n\u001b[0;32m     <a href='vscode-notebook-cell:/c%3A/Users/toekle/OneDrive%20-%20Capgemini/Documents/docker_neo4j/data/brreg_api.ipynb#X21sZmlsZQ%3D%3D?line=12'>13</a>\u001b[0m     \u001b[39mif\u001b[39;00m \u001b[39m'\u001b[39m\u001b[39mperson\u001b[39m\u001b[39m'\u001b[39m \u001b[39min\u001b[39;00m data:\n",
      "\u001b[1;31mKeyError\u001b[0m: 'enhet'"
     ]
    }
   ],
   "source": [
    "# Initialize empty lists to store data\n",
    "names = []\n",
    "roles = []\n",
    "dates_of_birth = []\n",
    "\n",
    "# Loop through the JSON response data and extract the desired information\n",
    "for role_group in data['rollegrupper']:\n",
    "    role_group_description = role_group['type']['beskrivelse']\n",
    "    for role in role_group['roller']:\n",
    "        person = role.get('person', {})  # Check if 'person' key exists, and if not, use an empty dictionary\n",
    "        name = role['enhet']['navn'][0]\n",
    "        # Check if \"date_of_birth\" is available (for a person)\n",
    "        if 'person' in data:\n",
    "            date_of_birth = data['person'].get('fodselsdato', '')\n",
    "        else:\n",
    "            date_of_birth = ''\n",
    "        # Append data to lists\n",
    "        names.append(name)\n",
    "        roles.append(role_group_description)\n",
    "        dates_of_birth.append(date_of_birth)\n",
    "\n",
    "# Create a Pandas DataFrame\n",
    "df = pd.DataFrame({\n",
    "    'name': names,\n",
    "    'role': roles,\n",
    "    'date_of_birth': dates_of_birth\n",
    "})\n",
    "\n",
    "# Display the DataFrame\n",
    "print(df)"
   ]
  },
  {
   "cell_type": "code",
   "execution_count": 14,
   "metadata": {},
   "outputs": [
    {
     "data": {
      "text/plain": [
       "{'fodselsdato': '1980-02-16',\n",
       " 'navn': {'fornavn': 'Andreas',\n",
       "  'mellomnavn': 'Egge',\n",
       "  'etternavn': 'Thorsheim'},\n",
       " 'erDoed': False}"
      ]
     },
     "execution_count": 14,
     "metadata": {},
     "output_type": "execute_result"
    }
   ],
   "source": [
    "person"
   ]
  },
  {
   "cell_type": "code",
   "execution_count": 28,
   "metadata": {},
   "outputs": [],
   "source": [
    "for role_group in data['rollegrupper']:\n",
    "    role_group_description = role_group['type']['beskrivelse']\n",
    "    for role in role_group['roller']:\n",
    "        person = role.get('person', {}) "
   ]
  },
  {
   "cell_type": "code",
   "execution_count": 38,
   "metadata": {},
   "outputs": [
    {
     "data": {
      "text/plain": [
       "'AIDER ACCOUNTING AS'"
      ]
     },
     "execution_count": 38,
     "metadata": {},
     "output_type": "execute_result"
    }
   ],
   "source": [
    "role['enhet']['navn'][0]"
   ]
  },
  {
   "cell_type": "code",
   "execution_count": 10,
   "metadata": {},
   "outputs": [],
   "source": [
    "\n",
    "client = Client()\n",
    "enhet = client.get_enhet('915501680')"
   ]
  },
  {
   "cell_type": "code",
   "execution_count": 11,
   "metadata": {},
   "outputs": [
    {
     "data": {
      "text/plain": [
       "Enhet(organisasjonsnummer='915501680', navn='OTOVO ASA', organisasjonsform=Organisasjonsform(kode='ASA', beskrivelse='Allmennaksjeselskap', utgaatt=None), hjemmeside='www.otovo.no', postadresse=None, registreringsdato_enhetsregisteret=datetime.date(2015, 7, 10), registrert_i_mvaregisteret=True, frivillig_mva_registrert_beskrivelser=[], naeringskode1=Naeringskode(kode='46.180', beskrivelse='Agenturhandel med spesialisert vareutvalg ellers'), naeringskode2=None, naeringskode3=None, hjelpeenhetskode=None, antall_ansatte=91, har_registrert_antall_ansatte=True, overordnet_enhet=None, forretningsadresse=Adresse(adresse=['Torggata 7'], postnummer='0181', poststed='OSLO', kommunenummer='0301', kommune='OSLO', landkode='NO', land='Norge'), stiftelsesdato=datetime.date(2015, 6, 1), institusjonell_sektorkode=InstitusjonellSektorkode(kode='2100', beskrivelse='Private aksjeselskaper mv.'), registrert_i_foretaksregisteret=True, registrert_i_stiftelsesregisteret=False, registrert_i_frivillighetsregisteret=False, siste_innsendte_aarsregnskap=2022, konkurs=False, konkursdato=None, under_avvikling=False, under_tvangsavvikling_eller_tvangsopplosning=False, maalform='Bokmål', vedtektsdato=datetime.date(2023, 2, 9), vedtektsfestet_formaal=['Utvikling, kommersialisering og installasjon av fornybar kraft, samt å', 'ta eierskap eller yte bedriftsrådgivning knyttet til disse feltene.'], aktivitet=['Postordre-/internetthandel med solcelleanlegg, elbilladere og', 'batterier.'], nedleggelsesdato=None, slettedato=None)"
      ]
     },
     "execution_count": 11,
     "metadata": {},
     "output_type": "execute_result"
    }
   ],
   "source": [
    "enhet"
   ]
  },
  {
   "attachments": {},
   "cell_type": "markdown",
   "metadata": {},
   "source": [
    "# Unique constraints\n",
    "```cypher\n",
    "CREATE CONSTRAINT organisasjonsnummer_unique IF NOT EXISTS FOR (c:Company) REQUIRE c.organisasjonsnummer IS UNIQUE\n",
    "\n",
    "```"
   ]
  },
  {
   "cell_type": "code",
   "execution_count": null,
   "metadata": {},
   "outputs": [],
   "source": [
    "##"
   ]
  }
 ],
 "metadata": {
  "kernelspec": {
   "display_name": "Python 3",
   "language": "python",
   "name": "python3"
  },
  "language_info": {
   "codemirror_mode": {
    "name": "ipython",
    "version": 3
   },
   "file_extension": ".py",
   "mimetype": "text/x-python",
   "name": "python",
   "nbconvert_exporter": "python",
   "pygments_lexer": "ipython3",
   "version": "3.11.0"
  },
  "orig_nbformat": 4
 },
 "nbformat": 4,
 "nbformat_minor": 2
}
