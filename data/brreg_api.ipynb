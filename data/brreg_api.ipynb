{
 "cells": [
  {
   "attachments": {},
   "cell_type": "markdown",
   "metadata": {},
   "source": [
    "# Teste brreg API\n",
    "- <https://data.brreg.no/enhetsregisteret/oppslag/enheter?kommunenummer=1103,1108&fraAntallAnsatte=10&tilAntallAnsatte=50000&sort=navn.norwegian,asc>"
   ]
  },
  {
   "cell_type": "code",
   "execution_count": 2,
   "metadata": {},
   "outputs": [],
   "source": [
    "import requests\n",
    "import pandas as pd\n",
    "from brreg.enhetsregisteret import Client\n",
    "\n"
   ]
  },
  {
   "cell_type": "code",
   "execution_count": 4,
   "metadata": {},
   "outputs": [],
   "source": [
    "data = pd.read_json('enheter_sandnes_stavanger.json')"
   ]
  },
  {
   "cell_type": "code",
   "execution_count": null,
   "metadata": {},
   "outputs": [],
   "source": []
  },
  {
   "cell_type": "code",
   "execution_count": 12,
   "metadata": {},
   "outputs": [],
   "source": [
    "# /enhetsregisteret/api/enheter/{orgnr}\n",
    "# Define the API endpoint URL\n",
    "url = \"https://data.brreg.no/enhetsregisteret/oppslag/enheter/974760673/roller\"\n",
    "\n",
    "# Define query parameters\n",
    "#params = {\"orgnr\": 974760673}\n",
    "\n",
    "# Make an HTTP GET request to the API\n",
    "response = requests.get(url, params=params)"
   ]
  },
  {
   "cell_type": "code",
   "execution_count": 22,
   "metadata": {},
   "outputs": [],
   "source": [
    "# Define the API endpoint URL\n",
    "orgnr = '915501680'\n",
    "url = f'https://data.brreg.no/enhetsregisteret/api/enheter/{orgnr}/roller'\n",
    "\n",
    "# Define headers for the request\n",
    "headers = {\n",
    "    'Accept': 'application/json'\n",
    "}\n",
    "\n",
    "# Make an HTTP GET request to the API with the specified headers\n",
    "response = requests.get(url, headers=headers)\n",
    "data = response.json()"
   ]
  },
  {
   "cell_type": "code",
   "execution_count": 40,
   "metadata": {},
   "outputs": [
    {
     "ename": "KeyError",
     "evalue": "'enhet'",
     "output_type": "error",
     "traceback": [
      "\u001b[1;31m---------------------------------------------------------------------------\u001b[0m",
      "\u001b[1;31mKeyError\u001b[0m                                  Traceback (most recent call last)",
      "\u001b[1;32mc:\\Users\\toekle\\OneDrive - Capgemini\\Documents\\docker_neo4j\\data\\brreg_api.ipynb Cell 7\u001b[0m in \u001b[0;36m1\n\u001b[0;32m      <a href='vscode-notebook-cell:/c%3A/Users/toekle/OneDrive%20-%20Capgemini/Documents/docker_neo4j/data/brreg_api.ipynb#X11sZmlsZQ%3D%3D?line=8'>9</a>\u001b[0m \u001b[39mfor\u001b[39;00m role \u001b[39min\u001b[39;00m role_group[\u001b[39m'\u001b[39m\u001b[39mroller\u001b[39m\u001b[39m'\u001b[39m]:\n\u001b[0;32m     <a href='vscode-notebook-cell:/c%3A/Users/toekle/OneDrive%20-%20Capgemini/Documents/docker_neo4j/data/brreg_api.ipynb#X11sZmlsZQ%3D%3D?line=9'>10</a>\u001b[0m     person \u001b[39m=\u001b[39m role\u001b[39m.\u001b[39mget(\u001b[39m'\u001b[39m\u001b[39mperson\u001b[39m\u001b[39m'\u001b[39m, {})  \u001b[39m# Check if 'person' key exists, and if not, use an empty dictionary\u001b[39;00m\n\u001b[1;32m---> <a href='vscode-notebook-cell:/c%3A/Users/toekle/OneDrive%20-%20Capgemini/Documents/docker_neo4j/data/brreg_api.ipynb#X11sZmlsZQ%3D%3D?line=10'>11</a>\u001b[0m     name \u001b[39m=\u001b[39m role[\u001b[39m'\u001b[39;49m\u001b[39menhet\u001b[39;49m\u001b[39m'\u001b[39;49m][\u001b[39m'\u001b[39m\u001b[39mnavn\u001b[39m\u001b[39m'\u001b[39m][\u001b[39m0\u001b[39m]\n\u001b[0;32m     <a href='vscode-notebook-cell:/c%3A/Users/toekle/OneDrive%20-%20Capgemini/Documents/docker_neo4j/data/brreg_api.ipynb#X11sZmlsZQ%3D%3D?line=11'>12</a>\u001b[0m     \u001b[39m# Check if \"date_of_birth\" is available (for a person)\u001b[39;00m\n\u001b[0;32m     <a href='vscode-notebook-cell:/c%3A/Users/toekle/OneDrive%20-%20Capgemini/Documents/docker_neo4j/data/brreg_api.ipynb#X11sZmlsZQ%3D%3D?line=12'>13</a>\u001b[0m     \u001b[39mif\u001b[39;00m \u001b[39m'\u001b[39m\u001b[39mperson\u001b[39m\u001b[39m'\u001b[39m \u001b[39min\u001b[39;00m data:\n",
      "\u001b[1;31mKeyError\u001b[0m: 'enhet'"
     ]
    }
   ],
   "source": [
    "# Initialize empty lists to store data\n",
    "names = []\n",
    "roles = []\n",
    "dates_of_birth = []\n",
    "\n",
    "# Loop through the JSON response data and extract the desired information\n",
    "for role_group in data['rollegrupper']:\n",
    "    role_group_description = role_group['type']['beskrivelse']\n",
    "    for role in role_group['roller']:\n",
    "        person = role.get('person', {})  # Check if 'person' key exists, and if not, use an empty dictionary\n",
    "        name = role['enhet']['navn'][0]\n",
    "        # Check if \"date_of_birth\" is available (for a person)\n",
    "        if 'person' in data:\n",
    "            date_of_birth = data['person'].get('fodselsdato', '')\n",
    "        else:\n",
    "            date_of_birth = ''\n",
    "        # Append data to lists\n",
    "        names.append(name)\n",
    "        roles.append(role_group_description)\n",
    "        dates_of_birth.append(date_of_birth)\n",
    "\n",
    "# Create a Pandas DataFrame\n",
    "df = pd.DataFrame({\n",
    "    'name': names,\n",
    "    'role': roles,\n",
    "    'date_of_birth': dates_of_birth\n",
    "})\n",
    "\n",
    "# Display the DataFrame\n",
    "print(df)"
   ]
  },
  {
   "cell_type": "code",
   "execution_count": 41,
   "metadata": {},
   "outputs": [
    {
     "data": {
      "text/plain": [
       "{'fodselsdato': '1980-02-16',\n",
       " 'navn': {'fornavn': 'Andreas',\n",
       "  'mellomnavn': 'Egge',\n",
       "  'etternavn': 'Thorsheim'},\n",
       " 'erDoed': False}"
      ]
     },
     "execution_count": 41,
     "metadata": {},
     "output_type": "execute_result"
    }
   ],
   "source": [
    "person"
   ]
  },
  {
   "cell_type": "code",
   "execution_count": 28,
   "metadata": {},
   "outputs": [],
   "source": [
    "for role_group in data['rollegrupper']:\n",
    "    role_group_description = role_group['type']['beskrivelse']\n",
    "    for role in role_group['roller']:\n",
    "        person = role.get('person', {}) "
   ]
  },
  {
   "cell_type": "code",
   "execution_count": 38,
   "metadata": {},
   "outputs": [
    {
     "data": {
      "text/plain": [
       "'AIDER ACCOUNTING AS'"
      ]
     },
     "execution_count": 38,
     "metadata": {},
     "output_type": "execute_result"
    }
   ],
   "source": [
    "role['enhet']['navn'][0]"
   ]
  },
  {
   "cell_type": "code",
   "execution_count": 10,
   "metadata": {},
   "outputs": [],
   "source": [
    "\n",
    "client = Client()\n",
    "enhet = client.get_enhet('915501680')"
   ]
  },
  {
   "cell_type": "code",
   "execution_count": 11,
   "metadata": {},
   "outputs": [
    {
     "data": {
      "text/plain": [
       "Enhet(organisasjonsnummer='915501680', navn='OTOVO ASA', organisasjonsform=Organisasjonsform(kode='ASA', beskrivelse='Allmennaksjeselskap', utgaatt=None), hjemmeside='www.otovo.no', postadresse=None, registreringsdato_enhetsregisteret=datetime.date(2015, 7, 10), registrert_i_mvaregisteret=True, frivillig_mva_registrert_beskrivelser=[], naeringskode1=Naeringskode(kode='46.180', beskrivelse='Agenturhandel med spesialisert vareutvalg ellers'), naeringskode2=None, naeringskode3=None, hjelpeenhetskode=None, antall_ansatte=91, har_registrert_antall_ansatte=True, overordnet_enhet=None, forretningsadresse=Adresse(adresse=['Torggata 7'], postnummer='0181', poststed='OSLO', kommunenummer='0301', kommune='OSLO', landkode='NO', land='Norge'), stiftelsesdato=datetime.date(2015, 6, 1), institusjonell_sektorkode=InstitusjonellSektorkode(kode='2100', beskrivelse='Private aksjeselskaper mv.'), registrert_i_foretaksregisteret=True, registrert_i_stiftelsesregisteret=False, registrert_i_frivillighetsregisteret=False, siste_innsendte_aarsregnskap=2022, konkurs=False, konkursdato=None, under_avvikling=False, under_tvangsavvikling_eller_tvangsopplosning=False, maalform='Bokmål', vedtektsdato=datetime.date(2023, 2, 9), vedtektsfestet_formaal=['Utvikling, kommersialisering og installasjon av fornybar kraft, samt å', 'ta eierskap eller yte bedriftsrådgivning knyttet til disse feltene.'], aktivitet=['Postordre-/internetthandel med solcelleanlegg, elbilladere og', 'batterier.'], nedleggelsesdato=None, slettedato=None)"
      ]
     },
     "execution_count": 11,
     "metadata": {},
     "output_type": "execute_result"
    }
   ],
   "source": [
    "enhet"
   ]
  }
 ],
 "metadata": {
  "kernelspec": {
   "display_name": "Python 3",
   "language": "python",
   "name": "python3"
  },
  "language_info": {
   "codemirror_mode": {
    "name": "ipython",
    "version": 3
   },
   "file_extension": ".py",
   "mimetype": "text/x-python",
   "name": "python",
   "nbconvert_exporter": "python",
   "pygments_lexer": "ipython3",
   "version": "3.11.0"
  },
  "orig_nbformat": 4
 },
 "nbformat": 4,
 "nbformat_minor": 2
}
